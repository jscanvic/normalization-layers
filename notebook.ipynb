{
 "cells": [
  {
   "cell_type": "markdown",
   "id": "554107fc9f8c251c",
   "metadata": {},
   "source": [
    "**Setup**"
   ]
  },
  {
   "cell_type": "code",
   "execution_count": 1,
   "id": "f922ddf3-c693-4222-997f-2ec7ad9fe81a",
   "metadata": {
    "execution": {
     "iopub.execute_input": "2025-05-26T08:29:55.071245Z",
     "iopub.status.busy": "2025-05-26T08:29:55.071012Z",
     "iopub.status.idle": "2025-05-26T08:30:25.477979Z",
     "shell.execute_reply": "2025-05-26T08:30:25.477347Z"
    }
   },
   "outputs": [],
   "source": [
    "import pandas as pd\n",
    "import numpy as np\n",
    "\n",
    "def agg_mean_pm_se(x):\n",
    "    \"\"\"Return 'avg ± se' for a 1-D array-like.\"\"\"\n",
    "    mean = x.mean()\n",
    "    se   = x.std(ddof=1) / np.sqrt(len(x))\n",
    "    return f\"{mean:.2e} ± {se:.2e}\"\n",
    "\n",
    "def sort_categorical(df, column, ordered_categories):\n",
    "    return (\n",
    "        df.assign(**{ column: lambda df: df[column].astype(\"category\").cat.reorder_categories(ordered_categories) })\n",
    "        .sort_values(column)\n",
    "    )\n",
    "\n",
    "df = (\n",
    "    pd.read_csv(\"results.csv\")\n",
    "    .rename(columns={\n",
    "        \"layer_kind\": \"Layer\",\n",
    "        \"layer_training_mode\": \"Training mode\",\n",
    "        \"layer_init_kind\": \"Initialization\",\n",
    "        \"transformation\": \"Transformation\",\n",
    "        \"horizontal_displacement\": \"Horizontal displacement\",\n",
    "        \"vertical_displacement\": \"Vertical displacement\",\n",
    "        \"error\": \"Error\",\n",
    "    })\n",
    "    .replace({\n",
    "        \"Layer\": {\n",
    "            \"BatchNorm2d\": \"BatchNorm\",\n",
    "            \"InstanceNorm2d\": \"InstanceNorm\",\n",
    "            \"LayerNorm\": \"LayerNorm-CHW\",\n",
    "            \"LayerNorm_AF\": \"LayerNorm-AF\",\n",
    "            \"LayerNorm_C\": \"LayerNorm-C\"\n",
    "        },\n",
    "        \"Transformation\": {\n",
    "            \"shift\": \"Shifts\",\n",
    "            \"translate\": \"Translations\"\n",
    "        },\n",
    "        \"Training mode\": {\n",
    "            True: \"Train\",\n",
    "            False: \"Eval\"\n",
    "        },\n",
    "        \"Initialization\": {\n",
    "            \"default\": \"Default\",\n",
    "            \"normal\": \"Gaussian\"\n",
    "        }\n",
    "    })\n",
    "    .pipe(lambda df: sort_categorical(df, \"Layer\", [\"BatchNorm\", \"InstanceNorm\", \"LayerNorm-CHW\", \"LayerNorm-C\", \"LayerNorm-AF\"]))\n",
    "    .pipe(lambda df: sort_categorical(df, \"Transformation\", [\"Shifts\", \"Translations\"]))\n",
    "    .pipe(lambda df: sort_categorical(df, \"Training mode\", [\"Train\", \"Eval\"]))\n",
    ")"
   ]
  },
  {
   "cell_type": "markdown",
   "id": "e0bd998f-1035-405f-af4b-6aaa0572642b",
   "metadata": {},
   "source": [
    "**Equivariance error of normalization layers.**"
   ]
  },
  {
   "cell_type": "code",
   "execution_count": 2,
   "id": "e4ce7ca1-2f82-414b-a3ed-020313a2a46e",
   "metadata": {
    "execution": {
     "iopub.execute_input": "2025-05-26T08:30:25.481226Z",
     "iopub.status.busy": "2025-05-26T08:30:25.481122Z",
     "iopub.status.idle": "2025-05-26T08:30:26.031105Z",
     "shell.execute_reply": "2025-05-26T08:30:26.030350Z"
    }
   },
   "outputs": [
    {
     "name": "stderr",
     "output_type": "stream",
     "text": [
      "/tmp/ipykernel_31796/650136440.py:3: FutureWarning: The default value of observed=False is deprecated and will change to observed=True in a future version of pandas. Specify observed=False to silence this warning and retain the current behavior\n",
      "  .pivot_table(index=\"Layer\", columns=\"Transformation\", values=\"Error\", aggfunc=agg_mean_pm_se)\n"
     ]
    },
    {
     "data": {
      "text/html": [
       "<div>\n",
       "<style scoped>\n",
       "    .dataframe tbody tr th:only-of-type {\n",
       "        vertical-align: middle;\n",
       "    }\n",
       "\n",
       "    .dataframe tbody tr th {\n",
       "        vertical-align: top;\n",
       "    }\n",
       "\n",
       "    .dataframe thead th {\n",
       "        text-align: right;\n",
       "    }\n",
       "</style>\n",
       "<table border=\"1\" class=\"dataframe\">\n",
       "  <thead>\n",
       "    <tr style=\"text-align: right;\">\n",
       "      <th></th>\n",
       "      <th>Shifts</th>\n",
       "      <th>Translations</th>\n",
       "    </tr>\n",
       "    <tr>\n",
       "      <th>Layer</th>\n",
       "      <th></th>\n",
       "      <th></th>\n",
       "    </tr>\n",
       "  </thead>\n",
       "  <tbody>\n",
       "    <tr>\n",
       "      <th>BatchNorm</th>\n",
       "      <td>9.23e-09 ± 2.87e-12</td>\n",
       "      <td>1.28e-06 ± 1.70e-09</td>\n",
       "    </tr>\n",
       "    <tr>\n",
       "      <th>InstanceNorm</th>\n",
       "      <td>9.58e-09 ± 5.28e-12</td>\n",
       "      <td>7.15e-06 ± 1.89e-08</td>\n",
       "    </tr>\n",
       "    <tr>\n",
       "      <th>LayerNorm-CHW</th>\n",
       "      <td>4.97e-01 ± 3.54e-04</td>\n",
       "      <td>4.97e-01 ± 3.53e-04</td>\n",
       "    </tr>\n",
       "    <tr>\n",
       "      <th>LayerNorm-C</th>\n",
       "      <td>4.65e-09 ± 7.06e-12</td>\n",
       "      <td>2.44e-03 ± 2.66e-06</td>\n",
       "    </tr>\n",
       "    <tr>\n",
       "      <th>LayerNorm-AF</th>\n",
       "      <td>9.17e-09 ± 4.07e-12</td>\n",
       "      <td>8.04e-07 ± 2.59e-09</td>\n",
       "    </tr>\n",
       "  </tbody>\n",
       "</table>\n",
       "</div>"
      ],
      "text/plain": [
       "                            Shifts         Translations\n",
       "Layer                                                  \n",
       "BatchNorm      9.23e-09 ± 2.87e-12  1.28e-06 ± 1.70e-09\n",
       "InstanceNorm   9.58e-09 ± 5.28e-12  7.15e-06 ± 1.89e-08\n",
       "LayerNorm-CHW  4.97e-01 ± 3.54e-04  4.97e-01 ± 3.53e-04\n",
       "LayerNorm-C    4.65e-09 ± 7.06e-12  2.44e-03 ± 2.66e-06\n",
       "LayerNorm-AF   9.17e-09 ± 4.07e-12  8.04e-07 ± 2.59e-09"
      ]
     },
     "metadata": {},
     "output_type": "display_data"
    }
   ],
   "source": [
    "df_tbl = (\n",
    "    df\n",
    "    .pivot_table(index=\"Layer\", columns=\"Transformation\", values=\"Error\", aggfunc=agg_mean_pm_se)\n",
    "    .pipe(lambda df: df.rename_axis(columns=None))\n",
    ")\n",
    "display(df_tbl)"
   ]
  },
  {
   "cell_type": "markdown",
   "id": "c8002e00-ba0d-40cb-ae5d-195b168aaa19",
   "metadata": {},
   "source": [
    "**Equivariance error for the two modes of batch normalization.**"
   ]
  },
  {
   "cell_type": "code",
   "execution_count": 3,
   "id": "e6185552-5da6-48a6-9995-9e81f2bf4551",
   "metadata": {
    "execution": {
     "iopub.execute_input": "2025-05-26T08:30:26.033671Z",
     "iopub.status.busy": "2025-05-26T08:30:26.033198Z",
     "iopub.status.idle": "2025-05-26T08:30:26.497138Z",
     "shell.execute_reply": "2025-05-26T08:30:26.496643Z"
    }
   },
   "outputs": [
    {
     "name": "stderr",
     "output_type": "stream",
     "text": [
      "/tmp/ipykernel_31796/1061155862.py:4: FutureWarning: The default value of observed=False is deprecated and will change to observed=True in a future version of pandas. Specify observed=False to silence this warning and retain the current behavior\n",
      "  .pivot_table(index=\"Training mode\", columns=\"Transformation\", values=\"Error\", aggfunc=agg_mean_pm_se)\n"
     ]
    },
    {
     "data": {
      "text/html": [
       "<div>\n",
       "<style scoped>\n",
       "    .dataframe tbody tr th:only-of-type {\n",
       "        vertical-align: middle;\n",
       "    }\n",
       "\n",
       "    .dataframe tbody tr th {\n",
       "        vertical-align: top;\n",
       "    }\n",
       "\n",
       "    .dataframe thead th {\n",
       "        text-align: right;\n",
       "    }\n",
       "</style>\n",
       "<table border=\"1\" class=\"dataframe\">\n",
       "  <thead>\n",
       "    <tr style=\"text-align: right;\">\n",
       "      <th></th>\n",
       "      <th>Shifts</th>\n",
       "      <th>Translations</th>\n",
       "    </tr>\n",
       "    <tr>\n",
       "      <th>Training mode</th>\n",
       "      <th></th>\n",
       "      <th></th>\n",
       "    </tr>\n",
       "  </thead>\n",
       "  <tbody>\n",
       "    <tr>\n",
       "      <th>Train</th>\n",
       "      <td>9.51e-09 ± 3.80e-12</td>\n",
       "      <td>2.55e-06 ± 3.16e-09</td>\n",
       "    </tr>\n",
       "    <tr>\n",
       "      <th>Eval</th>\n",
       "      <td>8.95e-09 ± 4.29e-12</td>\n",
       "      <td>9.67e-09 ± 3.44e-12</td>\n",
       "    </tr>\n",
       "  </tbody>\n",
       "</table>\n",
       "</div>"
      ],
      "text/plain": [
       "                            Shifts         Translations\n",
       "Training mode                                          \n",
       "Train          9.51e-09 ± 3.80e-12  2.55e-06 ± 3.16e-09\n",
       "Eval           8.95e-09 ± 4.29e-12  9.67e-09 ± 3.44e-12"
      ]
     },
     "metadata": {},
     "output_type": "display_data"
    }
   ],
   "source": [
    "df_tbl = (\n",
    "    df\n",
    "    .pipe(lambda df: df[df[\"Layer\"] == \"BatchNorm\"])\n",
    "    .pivot_table(index=\"Training mode\", columns=\"Transformation\", values=\"Error\", aggfunc=agg_mean_pm_se)\n",
    "    .pipe(lambda df: df.rename_axis(columns=None))\n",
    ")\n",
    "display(df_tbl)"
   ]
  }
 ],
 "metadata": {
  "kernelspec": {
   "display_name": "Python 3 (ipykernel)",
   "language": "python",
   "name": "python3"
  },
  "language_info": {
   "codemirror_mode": {
    "name": "ipython",
    "version": 3
   },
   "file_extension": ".py",
   "mimetype": "text/x-python",
   "name": "python",
   "nbconvert_exporter": "python",
   "pygments_lexer": "ipython3",
   "version": "3.12.1"
  }
 },
 "nbformat": 4,
 "nbformat_minor": 5
}
